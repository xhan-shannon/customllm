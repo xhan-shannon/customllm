{
 "cells": [
  {
   "cell_type": "code",
   "execution_count": 4,
   "metadata": {},
   "outputs": [],
   "source": [
    "import os\n",
    "from ollama import Client\n",
    "from pydantic import BaseModel\n",
    "\n",
    "client = Client(\n",
    "  host=\"http://localhost:7869\",\n",
    "  # auth_token=\"sk-bae3d6cde76e4ebda945748a706d64f1\"\n",
    ")\n"
   ]
  },
  {
   "cell_type": "code",
   "execution_count": 6,
   "metadata": {},
   "outputs": [
    {
     "name": "stdout",
     "output_type": "stream",
     "text": [
      "Generated Calendar Event:\n",
      "Title: Team Meeting - Q4 Planning\n",
      "Start: 2023-10-25T14:00\n",
      "End: 2023-10-25T15:30\n",
      "Description: Quarterly team meeting to discuss the strategic planning for Q4. Please come prepared with your department updates and any key issues that need addressing.\n"
     ]
    },
    {
     "name": "stderr",
     "output_type": "stream",
     "text": [
      "/tmp/ipykernel_225421/1567198493.py:27: PydanticDeprecatedSince20: The `parse_raw` method is deprecated; if your data is JSON use `model_validate_json`, otherwise load the data then use `model_validate` instead. Deprecated in Pydantic V2.0 to be removed in V3.0. See Pydantic V2 Migration Guide at https://errors.pydantic.dev/2.10/migration/\n",
      "  event = CalendarEvent.parse_raw(response.response)\n"
     ]
    }
   ],
   "source": [
    "class CalendarEvent(BaseModel):\n",
    "    title: str\n",
    "    start: str\n",
    "    end: str\n",
    "    description: str\n",
    "\n",
    "# Create a prompt that asks for a calendar event\n",
    "prompt = \"\"\"Generate a calendar event for a team meeting.\n",
    "Return it in the following JSON format:\n",
    "{\n",
    "    \"title\": \"event title\",\n",
    "    \"start\": \"YYYY-MM-DD HH:MM\",\n",
    "    \"end\": \"YYYY-MM-DD HH:MM\",\n",
    "    \"description\": \"event description\"\n",
    "}\"\"\"\n",
    "\n",
    "# Get completion from the model\n",
    "response = client.generate(\n",
    "    model=\"deepseek-r1:70b\",  # or whatever model you have pulled in ollama\n",
    "    prompt=prompt,\n",
    "    format=\"json\"  # This tells ollama to return JSON format\n",
    ")\n",
    "\n",
    "# Parse the response into our CalendarEvent model\n",
    "try:\n",
    "    # The response.message contains the generated text\n",
    "    event = CalendarEvent.parse_raw(response.response)\n",
    "    print(\"Generated Calendar Event:\")\n",
    "    print(f\"Title: {event.title}\")\n",
    "    print(f\"Start: {event.start}\")\n",
    "    print(f\"End: {event.end}\")\n",
    "    print(f\"Description: {event.description}\")\n",
    "except Exception as e:\n",
    "    print(f\"Error parsing response: {e}\")"
   ]
  }
 ],
 "metadata": {
  "kernelspec": {
   "display_name": "venv",
   "language": "python",
   "name": "python3"
  },
  "language_info": {
   "codemirror_mode": {
    "name": "ipython",
    "version": 3
   },
   "file_extension": ".py",
   "mimetype": "text/x-python",
   "name": "python",
   "nbconvert_exporter": "python",
   "pygments_lexer": "ipython3",
   "version": "3.10.12"
  }
 },
 "nbformat": 4,
 "nbformat_minor": 2
}
