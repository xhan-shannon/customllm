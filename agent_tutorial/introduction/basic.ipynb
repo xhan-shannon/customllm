{
 "cells": [
  {
   "cell_type": "code",
   "execution_count": null,
   "metadata": {},
   "outputs": [],
   "source": [
    "!pip install ollama"
   ]
  },
  {
   "cell_type": "code",
   "execution_count": 7,
   "metadata": {},
   "outputs": [
    {
     "name": "stdout",
     "output_type": "stream",
     "text": [
      "model='deepseek-r1:70b' created_at='2025-02-14T09:08:42.301492254Z' done=True done_reason='stop' total_duration=15430433014 load_duration=14431977738 prompt_eval_count=7 prompt_eval_duration=313000000 eval_count=16 eval_duration=683000000 message=Message(role='assistant', content='<think>\\n\\n</think>\\n\\nHello! How can I assist you today? 😊', images=None, tool_calls=None)\n"
     ]
    }
   ],
   "source": [
    "import os\n",
    "from ollama import Client\n",
    "\n",
    "client = Client(\n",
    "  host=\"http://localhost:7869\",\n",
    "  # auth_token=\"sk-bae3d6cde76e4ebda945748a706d64f1\"\n",
    ")\n",
    "response = client.chat(model=\"deepseek-r1:70b\", messages=[{\"role\": \"user\", \"content\": \"Hello, world!\"}])\n",
    "\n",
    "print(response)"
   ]
  },
  {
   "cell_type": "markdown",
   "metadata": {},
   "source": []
  }
 ],
 "metadata": {
  "kernelspec": {
   "display_name": "venv",
   "language": "python",
   "name": "python3"
  },
  "language_info": {
   "codemirror_mode": {
    "name": "ipython",
    "version": 3
   },
   "file_extension": ".py",
   "mimetype": "text/x-python",
   "name": "python",
   "nbconvert_exporter": "python",
   "pygments_lexer": "ipython3",
   "version": "3.10.12"
  }
 },
 "nbformat": 4,
 "nbformat_minor": 2
}
