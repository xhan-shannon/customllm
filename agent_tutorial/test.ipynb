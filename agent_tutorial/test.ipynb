{
 "cells": [
  {
   "cell_type": "markdown",
   "metadata": {},
   "source": [
    "For many applications, however, optimizing single LLM calls with retrieval and in-content examples is usually enough.\n",
    "# \n",
    "然而，对于许多应用程序来说，通过检索和内容示例优化单个LLM调用通常就足够了。\n",
    "\n",
    "\n"
   ]
  },
  {
   "cell_type": "markdown",
   "metadata": {},
   "source": [
    "Building block: The augmented LLM\n",
    "# 构建块：增强的LLM\n",
    "\n",
    "The basic building block of agentic systems is an LLM enhanced with augmentation such as retrieval, tools, and memory.\n",
    "# 代理系统的基本构建块是一个增强的LLM，具有检索、工具和记忆等增强功能。\n",
    "\n",
    "Prompt chaining decomposes a task into a sequence of steps, where each LLM call processes the output of the previous one. You can add programmatic checks(see \"gate\" in the diagram below) on my intermediate steps to ensure that the process is still on track.\n",
    "\n",
    "提示链将一个任务分解为一系列步骤，其中每个LLM调用处理前一个的输出。你可以在中间步骤中添加程序检查（见下图中的“gate”），以确保过程仍在轨道上。"
   ]
  }
 ],
 "metadata": {
  "language_info": {
   "name": "python"
  }
 },
 "nbformat": 4,
 "nbformat_minor": 2
}
